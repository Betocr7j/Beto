{
 "cells": [
  {
   "cell_type": "markdown",
   "metadata": {},
   "source": [
    "<center>\n",
    "    <img src=\"https://cf-courses-data.s3.us.cloud-object-storage.appdomain.cloud/IBMDeveloperSkillsNetwork-DS0105EN-SkillsNetwork/labs/Module2/images/SN_web_lightmode.png\" width=\"300\" alt=\"cognitiveclass.ai logo\">\n",
    "</center>\n"
   ]
  },
  {
   "cell_type": "markdown",
   "metadata": {},
   "source": [
    "#### Add your code below following the instructions given in the course\n"
   ]
  },
  {
   "cell_type": "markdown",
   "metadata": {},
   "source": [
    "Fanally homework"
   ]
  },
  {
   "cell_type": "markdown",
   "metadata": {},
   "source": [
    "This is an introduction to my final assignment to conclude my Tools for Data course, which will test my knowledge."
   ]
  },
  {
   "cell_type": "markdown",
   "metadata": {},
   "source": [
    "Data Scince Languages:\n",
    "1. Python\n",
    "2. R\n",
    "3. Julia\n",
    "4. Scala\n",
    "5. JavaScript\n",
    "6. SQL\n",
    "7. TypeScript\n",
    "8. Go"
   ]
  },
  {
   "cell_type": "markdown",
   "metadata": {},
   "source": [
    "Libraries:\n",
    "- Numpy\n",
    "- Pandas\n",
    "- Scikit\n",
    "- Matplotlib\n",
    "- Seaborn\n",
    "- TensorFlow\n",
    "- Keras"
   ]
  },
  {
   "cell_type": "markdown",
   "metadata": {},
   "source": [
    "Tools for Data Science:\n",
    "- Jupyter Notebook / JupyterLab\n",
    "- VS code\n",
    "- Rstudio\n",
    "- Mongo DB\n",
    "- POWER BI\n",
    "- MySQL\n",
    "- GIT\n",
    "- GITHUB\n",
    "- Airflow"
   ]
  },
  {
   "cell_type": "markdown",
   "metadata": {},
   "source": [
    "Arithmetic expessions:\n",
    "- Sum: 2 + 1\n",
    "- Substraction: 2 - 1\n",
    "- Product: 1 * 2\n",
    "- Divide: 1 / 2"
   ]
  },
  {
   "cell_type": "code",
   "execution_count": 3,
   "metadata": {},
   "outputs": [
    {
     "name": "stdout",
     "output_type": "stream",
     "text": [
      "7\n",
      "10\n"
     ]
    }
   ],
   "source": [
    "#Operation\n",
    "a=5\n",
    "b=2\n",
    "\n",
    "suma= a + b\n",
    "mult= a * b\n",
    "print(suma)\n",
    "print(mult)\n"
   ]
  },
  {
   "cell_type": "code",
   "execution_count": 5,
   "metadata": {},
   "outputs": [
    {
     "name": "stdin",
     "output_type": "stream",
     "text": [
      "Enter minutes:  45\n"
     ]
    },
    {
     "name": "stdout",
     "output_type": "stream",
     "text": [
      "45 minutes are 0 hours and 45 minutes.\n"
     ]
    }
   ],
   "source": [
    "#minutes to hours\n",
    "def convert_minutes_to_hours(minutes):\n",
    "    hours = minutes // 60\n",
    "    minutes_remaining = minutes % 60\n",
    "    return hours, minutes_remaining\n",
    "\n",
    "minutes_enter = int(input(\"Enter minutes: \"))\n",
    "hours, minutes = convert_minutes_to_hours(minutes_enter)\n",
    "print(f\"{minutes_enter} minutes are {hours} hours and {minutes} minutes.\")\n"
   ]
  },
  {
   "cell_type": "code",
   "execution_count": 7,
   "metadata": {},
   "outputs": [
    {
     "name": "stdout",
     "output_type": "stream",
     "text": [
      "Introduce your goals one by one. Write 'End' to finish.\n"
     ]
    },
    {
     "name": "stdin",
     "output_type": "stream",
     "text": [
      "Objetivo:  fin\n",
      "Objetivo:  end\n"
     ]
    },
    {
     "name": "stdout",
     "output_type": "stream",
     "text": [
      "\n",
      "✅ Lista de objetivos:\n",
      "1. fin\n"
     ]
    }
   ],
   "source": [
    "def listar_objetivos():\n",
    "    objetivos = []\n",
    "    print(\"Introduce your goals one by one. Write 'End' to finish.\")\n",
    "\n",
    "    while True:\n",
    "        objetivo = input(\"Objetivo: \")\n",
    "        if objetivo.lower() == 'end':\n",
    "            break\n",
    "        objetivos.append(objetivo)\n",
    "\n",
    "    print(\"\\n✅ Lista de objetivos:\")\n",
    "    for i, obj in enumerate(objetivos, start=1):\n",
    "        print(f\"{i}. {obj}\")\n",
    "\n",
    "listar_objetivos()\n"
   ]
  },
  {
   "cell_type": "markdown",
   "metadata": {},
   "source": [
    "Author: Jiménez, Alberto"
   ]
  },
  {
   "cell_type": "code",
   "execution_count": null,
   "metadata": {},
   "outputs": [],
   "source": []
  }
 ],
 "metadata": {
  "kernelspec": {
   "display_name": "Python 3 (ipykernel)",
   "language": "python",
   "name": "python3"
  },
  "language_info": {
   "codemirror_mode": {
    "name": "ipython",
    "version": 3
   },
   "file_extension": ".py",
   "mimetype": "text/x-python",
   "name": "python",
   "nbconvert_exporter": "python",
   "pygments_lexer": "ipython3",
   "version": "3.12.8"
  }
 },
 "nbformat": 4,
 "nbformat_minor": 4
}
